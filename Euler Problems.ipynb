{
 "cells": [
  {
   "cell_type": "code",
   "execution_count": null,
   "metadata": {
    "collapsed": false
   },
   "outputs": [],
   "source": [
    "# -*- coding: utf-8 -*-\n",
    "\"\"\"\n",
    "Created on Tue Mar 29 10:49:28 2016\n",
    "\n",
    "Problem 1\n",
    "\"\"\"\n",
    "\n",
    "\n",
    "x = 0\n",
    "t_sum = 0\n",
    "while x < 1000:\n",
    "    \n",
    "    if (x % 3 == 0) | (x % 5 == 0):\n",
    "        t_sum = t_sum + x\n",
    "        \n",
    "    x = x +1 \n",
    "    \n",
    "    \n",
    "print 'Answer: ' + str(t_sum)"
   ]
  },
  {
   "cell_type": "code",
   "execution_count": null,
   "metadata": {
    "collapsed": false
   },
   "outputs": [],
   "source": [
    "# -*- coding: utf-8 -*-\n",
    "\"\"\"\n",
    "Created on Mon Mar 28 15:38:15 2016\n",
    "Problem 2\n",
    "\"\"\"\n",
    "\n",
    "\n",
    "def fibR(n):\n",
    "    if n == 0: return 0\n",
    "        \n",
    "    elif n == 1: return 1\n",
    "        \n",
    "    else: return fibR(n-1)+fibR(n-2)\n",
    "\n",
    "x = 1\n",
    "resid = 0\n",
    "out = 0\n",
    "t_sum = 0 \n",
    "while out < 4000001:\n",
    "    \n",
    "    out = fibR(x)+ resid\n",
    "    \n",
    "    if out % 2 == 0:\n",
    "        t_sum = t_sum + out\n",
    "    \n",
    "    resid = fibR(x)\n",
    "    x = x+1\n",
    "    \n",
    "\n",
    "print 'Answer: ' + str(t_sum)"
   ]
  },
  {
   "cell_type": "code",
   "execution_count": null,
   "metadata": {
    "collapsed": false
   },
   "outputs": [],
   "source": [
    "# -*- coding: utf-8 -*-\n",
    "\"\"\"\n",
    "Created on Tue Mar 29 10:54:12 2016\n",
    "\n",
    "Problem 3\n",
    "\n",
    "\"\"\"\n",
    "\n",
    "\n",
    "def Factorizer(n):\n",
    "     i = 2\n",
    "     \n",
    "     while i*i < n:\n",
    "         if n % i:\n",
    "             i += 1\n",
    "         else:\n",
    "             n //= i\n",
    "     return n\n",
    "\n",
    "print 'Answer: ' + str(Factorizer(600851475143))\n",
    "            "
   ]
  },
  {
   "cell_type": "code",
   "execution_count": null,
   "metadata": {
    "collapsed": false
   },
   "outputs": [],
   "source": [
    "# -*- coding: utf-8 -*-\n",
    "\"\"\"\n",
    "Created on Tue Mar 29 10:54:12 2016\n",
    "\n",
    "Problem 8\n",
    "\n",
    "\"\"\"\n",
    "\n",
    "def slice_product(num,slice_size):\n",
    "    i = 0\n",
    "    prod_max = 0\n",
    "    while i < len(num):\n",
    "        prod = 1\n",
    "        for n in num[i:slice_size+i]:\n",
    "            prod = prod * int(n)\n",
    "            prod_max = max(prod_max,prod)\n",
    "        \n",
    "        i +=1\n",
    "    return prod_max\n",
    "\n",
    "num = '73167176531330624919225119674426574742355349194934\\\n",
    "96983520312774506326239578318016984801869478851843\\\n",
    "85861560789112949495459501737958331952853208805511\\\n",
    "12540698747158523863050715693290963295227443043557\\\n",
    "66896648950445244523161731856403098711121722383113\\\n",
    "62229893423380308135336276614282806444486645238749\\\n",
    "30358907296290491560440772390713810515859307960866\\\n",
    "70172427121883998797908792274921901699720888093776\\\n",
    "65727333001053367881220235421809751254540594752243\\\n",
    "52584907711670556013604839586446706324415722155397\\\n",
    "53697817977846174064955149290862569321978468622482\\\n",
    "83972241375657056057490261407972968652414535100474\\\n",
    "82166370484403199890008895243450658541227588666881\\\n",
    "16427171479924442928230863465674813919123162824586\\\n",
    "17866458359124566529476545682848912883142607690042\\\n",
    "24219022671055626321111109370544217506941658960408\\\n",
    "07198403850962455444362981230987879927244284909188\\\n",
    "84580156166097919133875499200524063689912560717606\\\n",
    "05886116467109405077541002256983155200055935729725\\\n",
    "71636269561882670428252483600823257530420752963450'\n",
    "\n",
    "\n",
    "print 'Answer: ' + str(slice_product(num,13))"
   ]
  },
  {
   "cell_type": "code",
   "execution_count": null,
   "metadata": {
    "collapsed": false
   },
   "outputs": [],
   "source": [
    "\"\"\"\n",
    "Created on Tue Mar 29 10:54:12 2016\n",
    "\n",
    "Problem 9\n",
    "\n",
    "\"\"\"\n",
    "\n",
    "\n",
    "import math\n",
    "\n",
    "def FindTriplet(b):\n",
    "    a = b - 1\n",
    "\n",
    "    while a > 0:\n",
    "        c = math.sqrt(a**2 + b**2)\n",
    "        term = a + b + c\n",
    "        if (term == 1000) and (c > b):\n",
    "            print a * b * c\n",
    "            break\n",
    "        else: \n",
    "            a -= 1 \n",
    "\n",
    "b = 999\n",
    "\n",
    "while b > 0:\n",
    "    FindTriplet(b)\n",
    "    b -=1"
   ]
  },
  {
   "cell_type": "code",
   "execution_count": null,
   "metadata": {
    "collapsed": false
   },
   "outputs": [],
   "source": []
  },
  {
   "cell_type": "code",
   "execution_count": 15,
   "metadata": {
    "collapsed": false
   },
   "outputs": [],
   "source": [
    "\"\"\"\n",
    "Created on Tue Mar 29 10:54:12 2016\n",
    "\n",
    "Problem 14\n",
    "\n",
    "\"\"\"\n",
    "\n",
    "def Collatz(n):\n",
    "    if n % 2 == 0:\n",
    "        n /= 2 \n",
    "    else:\n",
    "        n = 3*n + 1\n",
    "    return n\n",
    "\n",
    "def SequenceLength(n):\n",
    "    l = 0\n",
    "    m = n\n",
    "    while m > 1:\n",
    "        m =  Collatz(m)\n",
    "        \n",
    "        l += 1\n",
    "    \n",
    "    return  n, l + 1\n",
    "\n"
   ]
  },
  {
   "cell_type": "code",
   "execution_count": null,
   "metadata": {
    "collapsed": false
   },
   "outputs": [],
   "source": [
    "import numpy as np\n",
    "\n",
    "\n",
    "nums = np.array(range(1,999999))\n",
    "\n",
    "vecfunc = np.vectorize(SequenceLength)\n",
    "\n",
    "result = vecfunc(nums)\n",
    "\n",
    "print str(result[0][result[1].argmax()] ) + ' is the number with the longest CO'\n",
    "\n",
    "print SequenceLength(837799)"
   ]
  },
  {
   "cell_type": "code",
   "execution_count": 23,
   "metadata": {
    "collapsed": false
   },
   "outputs": [],
   "source": []
  },
  {
   "cell_type": "code",
   "execution_count": 36,
   "metadata": {
    "collapsed": false
   },
   "outputs": [
    {
     "name": "stdout",
     "output_type": "stream",
     "text": [
      "837799\n",
      "(837799, 525)\n"
     ]
    }
   ],
   "source": []
  }
 ],
 "metadata": {
  "kernelspec": {
   "display_name": "Python 2",
   "language": "python",
   "name": "python2"
  },
  "language_info": {
   "codemirror_mode": {
    "name": "ipython",
    "version": 2
   },
   "file_extension": ".py",
   "mimetype": "text/x-python",
   "name": "python",
   "nbconvert_exporter": "python",
   "pygments_lexer": "ipython2",
   "version": "2.7.10"
  }
 },
 "nbformat": 4,
 "nbformat_minor": 0
}
